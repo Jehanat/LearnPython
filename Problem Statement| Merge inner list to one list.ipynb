{
 "cells": [
  {
   "cell_type": "code",
   "execution_count": 21,
   "metadata": {},
   "outputs": [
    {
     "name": "stdout",
     "output_type": "stream",
     "text": [
      "A is  [[2, 3, 5], [3, 5, 7], [4, 6, 9]]\n",
      "Output is [2, 3, 5, 3, 5, 7, 4, 6, 9]\n"
     ]
    }
   ],
   "source": [
    "#Problem Statement: A=[[2,3,5],[3,5,7],[4,6,9]] Output:[2, 3, 5, 3, 5, 7, 4, 6, 9]\n",
    "\n",
    "\n",
    "def Merge(L1):   \n",
    "    merged=[]\n",
    "    \n",
    "    for element in L1:\n",
    "        \n",
    "        if type(element) is list:\n",
    "            for item in element:\n",
    "                merged.append(item)\n",
    "            \n",
    "        else:\n",
    "            merged.append(element)\n",
    "            \n",
    "    return merged\n",
    "    \n",
    "A=[[2,3,5],[3,5,7],[4,6,9]] #users list\n",
    "\n",
    "\n",
    "print(\"A is \",A)\n",
    "print(\"Output is\",Merge(A))"
   ]
  },
  {
   "cell_type": "code",
   "execution_count": null,
   "metadata": {},
   "outputs": [],
   "source": []
  },
  {
   "cell_type": "code",
   "execution_count": null,
   "metadata": {},
   "outputs": [],
   "source": []
  }
 ],
 "metadata": {
  "kernelspec": {
   "display_name": "Python 3",
   "language": "python",
   "name": "python3"
  },
  "language_info": {
   "codemirror_mode": {
    "name": "ipython",
    "version": 3
   },
   "file_extension": ".py",
   "mimetype": "text/x-python",
   "name": "python",
   "nbconvert_exporter": "python",
   "pygments_lexer": "ipython3",
   "version": "3.8.3"
  }
 },
 "nbformat": 4,
 "nbformat_minor": 4
}
