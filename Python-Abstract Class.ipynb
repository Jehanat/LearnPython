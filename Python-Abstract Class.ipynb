{
 "cells": [
  {
   "cell_type": "code",
   "execution_count": 15,
   "metadata": {},
   "outputs": [
    {
     "name": "stdout",
     "output_type": "stream",
     "text": [
      "Solving\n",
      "Running\n",
      "None\n"
     ]
    }
   ],
   "source": [
    "from abc import ABC,abstractmethod\n",
    "\n",
    "\n",
    "class Computer(ABC):\n",
    "    @abstractmethod\n",
    "    def show(self):\n",
    "        pass\n",
    "    \n",
    "    \n",
    "class Laptop(Computer):\n",
    "    def show(self):\n",
    "        print(\"Running\")\n",
    "        \n",
    "class Prog:\n",
    "    def process(self,com):\n",
    "        print(\"Solving\")\n",
    "        com.show()\n",
    "        \n",
    "        \n",
    "com1=Laptop()\n",
    "prog1=Prog()\n",
    "print(prog1.process(com1))"
   ]
  },
  {
   "cell_type": "code",
   "execution_count": null,
   "metadata": {},
   "outputs": [],
   "source": []
  }
 ],
 "metadata": {
  "kernelspec": {
   "display_name": "Python 3",
   "language": "python",
   "name": "python3"
  },
  "language_info": {
   "codemirror_mode": {
    "name": "ipython",
    "version": 3
   },
   "file_extension": ".py",
   "mimetype": "text/x-python",
   "name": "python",
   "nbconvert_exporter": "python",
   "pygments_lexer": "ipython3",
   "version": "3.8.3"
  }
 },
 "nbformat": 4,
 "nbformat_minor": 4
}
