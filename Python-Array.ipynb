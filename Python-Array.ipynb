{
 "cells": [
  {
   "cell_type": "code",
   "execution_count": 1,
   "metadata": {},
   "outputs": [
    {
     "name": "stdout",
     "output_type": "stream",
     "text": [
      "2\n",
      "3\n",
      "4\n",
      "5\n"
     ]
    }
   ],
   "source": [
    "from array import *\n",
    "\n",
    "vals=array('i',[2,3,4,5])\n",
    "\n",
    "for i in vals:\n",
    "    print(i)"
   ]
  },
  {
   "cell_type": "code",
   "execution_count": 3,
   "metadata": {},
   "outputs": [
    {
     "name": "stdout",
     "output_type": "stream",
     "text": [
      "2\n",
      "3\n",
      "4\n",
      "5\n"
     ]
    }
   ],
   "source": [
    "from array import *\n",
    "\n",
    "vals=array('i',[2,3,4,5])\n",
    "\n",
    "new_arr=array(vals.typecode,(a for a in vals))\n",
    "\n",
    "for i in new_arr:\n",
    "    print(i)"
   ]
  },
  {
   "cell_type": "code",
   "execution_count": 6,
   "metadata": {},
   "outputs": [
    {
     "name": "stdout",
     "output_type": "stream",
     "text": [
      "Enter the length of array:7\n",
      "Enter value32\n",
      "Enter value87\n",
      "Enter value12\n",
      "Enter value35\n",
      "Enter value65\n",
      "Enter value43\n",
      "Enter value86\n",
      "array('i', [32, 87, 12, 35, 65, 43, 86])\n"
     ]
    }
   ],
   "source": [
    "from array import *\n",
    "\n",
    "arr=array('i',[])\n",
    "\n",
    "n=int(input(\"Enter the length of array:\"))\n",
    "\n",
    "\n",
    "for i in range(n):\n",
    "     i=(int(input(\"Enter value\")))\n",
    "     arr.append(i)\n",
    "print(arr)    \n",
    "        \n",
    "        "
   ]
  },
  {
   "cell_type": "code",
   "execution_count": 8,
   "metadata": {},
   "outputs": [
    {
     "name": "stdout",
     "output_type": "stream",
     "text": [
      "Enter the length of array:4\n",
      "Enter value3\n",
      "Enter value2\n",
      "Enter value1\n",
      "Enter value5\n",
      "array('i', [3, 2, 1, 5])\n",
      "Enter the value for index search5\n",
      "3\n"
     ]
    }
   ],
   "source": [
    "from array import *\n",
    "\n",
    "arr=array('i',[])\n",
    "\n",
    "n=int(input(\"Enter the length of array:\"))\n",
    "\n",
    "\n",
    "for i in range(n):\n",
    "     i=(int(input(\"Enter value\")))\n",
    "     arr.append(i)\n",
    "print(arr) \n",
    "\n",
    "j=int(input(\"Enter the value for index search\"))\n",
    "print(arr.index(j))        \n",
    "        "
   ]
  },
  {
   "cell_type": "code",
   "execution_count": null,
   "metadata": {},
   "outputs": [],
   "source": []
  }
 ],
 "metadata": {
  "kernelspec": {
   "display_name": "Python 3",
   "language": "python",
   "name": "python3"
  },
  "language_info": {
   "codemirror_mode": {
    "name": "ipython",
    "version": 3
   },
   "file_extension": ".py",
   "mimetype": "text/x-python",
   "name": "python",
   "nbconvert_exporter": "python",
   "pygments_lexer": "ipython3",
   "version": "3.8.3"
  }
 },
 "nbformat": 4,
 "nbformat_minor": 4
}
