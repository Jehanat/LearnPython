{
 "cells": [
  {
   "cell_type": "code",
   "execution_count": 18,
   "metadata": {},
   "outputs": [
    {
     "name": "stdout",
     "output_type": "stream",
     "text": [
      "Number has been found at position: 2\n"
     ]
    }
   ],
   "source": [
    "pos=0\n",
    "\n",
    "def search(list,n):\n",
    "    l=0\n",
    "    u=len(list)-1\n",
    "    \n",
    "    \n",
    "\n",
    "    while l <= u:\n",
    "        mid=(l+u) // 2\n",
    "        if list[mid]==n:\n",
    "            globals()['pos']=mid\n",
    "            return True\n",
    "        else:\n",
    "            if list[mid] < n:\n",
    "                l=mid+1;\n",
    "            else:\n",
    "                u=mid-1;\n",
    "        \n",
    "    return False\n",
    "    \n",
    "    \n",
    "list=[1,2,3,5,6]\n",
    "\n",
    "n=2\n",
    "if search(list,n):\n",
    "    print(\"Number has been found at position:\",pos+1)\n",
    "    \n",
    "else:\n",
    "    print('Not found')\n",
    "        "
   ]
  }
 ],
 "metadata": {
  "kernelspec": {
   "display_name": "Python 3",
   "language": "python",
   "name": "python3"
  },
  "language_info": {
   "codemirror_mode": {
    "name": "ipython",
    "version": 3
   },
   "file_extension": ".py",
   "mimetype": "text/x-python",
   "name": "python",
   "nbconvert_exporter": "python",
   "pygments_lexer": "ipython3",
   "version": "3.8.3"
  }
 },
 "nbformat": 4,
 "nbformat_minor": 4
}
