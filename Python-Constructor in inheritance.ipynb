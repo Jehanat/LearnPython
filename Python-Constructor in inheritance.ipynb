{
 "cells": [
  {
   "cell_type": "code",
   "execution_count": 10,
   "metadata": {},
   "outputs": [
    {
     "name": "stdout",
     "output_type": "stream",
     "text": [
      "A __init__\n",
      "C__init__\n",
      "feature1-A is working\n",
      "feature1-C is working\n"
     ]
    }
   ],
   "source": [
    "class A:\n",
    "    \n",
    "    def __init__(self):\n",
    "        print('A __init__')\n",
    "    \n",
    "    def feature1(self):\n",
    "        print('feature1-A is working')\n",
    "        \n",
    "        \n",
    "class B:\n",
    "    \n",
    "    def __init__(self):\n",
    "        print('B __init__')\n",
    "    \n",
    "    def feature1(self):\n",
    "        print('feature1-B is working')\n",
    "        \n",
    "        \n",
    "class C(A,B):\n",
    "    \n",
    "    def __init__(self):\n",
    "        super().__init__()\n",
    "        print('C__init__')\n",
    "    \n",
    "    def feature1(self):\n",
    "        super().feature1()\n",
    "        print('feature1-C is working')\n",
    "        \n",
    "#a=A()\n",
    "#b=B()\n",
    "c=C()\n",
    "\n",
    "c.feature1()\n",
    "\n",
    "\n",
    "\n"
   ]
  },
  {
   "cell_type": "code",
   "execution_count": null,
   "metadata": {},
   "outputs": [],
   "source": []
  }
 ],
 "metadata": {
  "kernelspec": {
   "display_name": "Python 3",
   "language": "python",
   "name": "python3"
  },
  "language_info": {
   "codemirror_mode": {
    "name": "ipython",
    "version": 3
   },
   "file_extension": ".py",
   "mimetype": "text/x-python",
   "name": "python",
   "nbconvert_exporter": "python",
   "pygments_lexer": "ipython3",
   "version": "3.8.3"
  }
 },
 "nbformat": 4,
 "nbformat_minor": 4
}
