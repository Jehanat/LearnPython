{
 "cells": [
  {
   "cell_type": "code",
   "execution_count": 1,
   "metadata": {},
   "outputs": [
    {
     "name": "stdout",
     "output_type": "stream",
     "text": [
      "Resource is Open\n",
      "0.6666666666666666\n",
      "Resource is closed\n"
     ]
    }
   ],
   "source": [
    "a=2\n",
    "b=3\n",
    "\n",
    "try:\n",
    "    print(\"Resource is Open\")\n",
    "    print(a/b)\n",
    "    \n",
    "except Exception as a:\n",
    "    print(\"Exception scenario\",a)\n",
    "    \n",
    "finally:\n",
    "    print(\"Resource is closed\")\n",
    "    \n",
    "    \n",
    "    "
   ]
  },
  {
   "cell_type": "code",
   "execution_count": 2,
   "metadata": {},
   "outputs": [
    {
     "name": "stdout",
     "output_type": "stream",
     "text": [
      "Resource is Open\n",
      "Exception scenario division by zero\n",
      "Resource is closed\n"
     ]
    }
   ],
   "source": [
    "a=2\n",
    "b=0\n",
    "\n",
    "try:\n",
    "    print(\"Resource is Open\")\n",
    "    print(a/b)\n",
    "    \n",
    "except Exception as a:\n",
    "    print(\"Exception scenario\",a)\n",
    "    \n",
    "finally:\n",
    "    print(\"Resource is closed\")\n",
    "    \n",
    "    \n",
    "    "
   ]
  },
  {
   "cell_type": "code",
   "execution_count": null,
   "metadata": {},
   "outputs": [],
   "source": []
  }
 ],
 "metadata": {
  "kernelspec": {
   "display_name": "Python 3",
   "language": "python",
   "name": "python3"
  },
  "language_info": {
   "codemirror_mode": {
    "name": "ipython",
    "version": 3
   },
   "file_extension": ".py",
   "mimetype": "text/x-python",
   "name": "python",
   "nbconvert_exporter": "python",
   "pygments_lexer": "ipython3",
   "version": "3.8.3"
  }
 },
 "nbformat": 4,
 "nbformat_minor": 4
}
