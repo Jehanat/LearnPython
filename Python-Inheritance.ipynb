{
 "cells": [
  {
   "cell_type": "code",
   "execution_count": 6,
   "metadata": {},
   "outputs": [
    {
     "name": "stdout",
     "output_type": "stream",
     "text": [
      "Feature3 is working\n",
      "Feature1 is working\n",
      "Feature7 is working\n",
      "Feature6 is working\n",
      "Feature5 is working\n",
      "Feature1 is working\n"
     ]
    }
   ],
   "source": [
    "class A:\n",
    "    def feature1(self):\n",
    "        print(\"Feature1 is working\")\n",
    "    def feature2(self):\n",
    "        print(\"Feature2 is working\")\n",
    "    def feature3(self):\n",
    "        print(\"Feature3 is working\")\n",
    "        \n",
    "class B(A):\n",
    "    def feature4(self):\n",
    "        print(\"Feature4 is working\")\n",
    "    def feature5(self):\n",
    "        print(\"Feature5 is working\")\n",
    "    def feature6(self):\n",
    "        print(\"Feature6 is working\")\n",
    "        \n",
    "class C(B):\n",
    "    def feature7(self):\n",
    "        print(\"Feature7 is working\")\n",
    "\n",
    "a=A()\n",
    "b=B()\n",
    "c=C()\n",
    "\n",
    "a.feature3()\n",
    "c.feature1()\n",
    "c.feature7()\n",
    "c.feature6()\n",
    "b.feature5()\n",
    "b.feature1()\n",
    "        \n",
    "\n",
    "                \n",
    "        \n",
    "        \n",
    "        \n",
    "        "
   ]
  },
  {
   "cell_type": "code",
   "execution_count": null,
   "metadata": {},
   "outputs": [],
   "source": []
  }
 ],
 "metadata": {
  "kernelspec": {
   "display_name": "Python 3",
   "language": "python",
   "name": "python3"
  },
  "language_info": {
   "codemirror_mode": {
    "name": "ipython",
    "version": 3
   },
   "file_extension": ".py",
   "mimetype": "text/x-python",
   "name": "python",
   "nbconvert_exporter": "python",
   "pygments_lexer": "ipython3",
   "version": "3.8.3"
  }
 },
 "nbformat": 4,
 "nbformat_minor": 4
}
