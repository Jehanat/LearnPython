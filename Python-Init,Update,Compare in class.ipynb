{
 "cells": [
  {
   "cell_type": "code",
   "execution_count": 2,
   "metadata": {},
   "outputs": [
    {
     "name": "stdout",
     "output_type": "stream",
     "text": [
      "Jenny\n",
      "Jenny\n"
     ]
    }
   ],
   "source": [
    "#This method is called when an object is created from a class and \n",
    "#it allows the class to initialize the attributes of the class.\n",
    "\n",
    "\n",
    "class Details:\n",
    "    \n",
    "    def __init__(self):\n",
    "        self.name=\"Jenny\"\n",
    "        self.age=24\n",
    "        \n",
    "        \n",
    "        \n",
    "        \n",
    "A=Details()  #obj\n",
    "B=Details()  #obj\n",
    "\n",
    "print(A.name)\n",
    "print(B.name)"
   ]
  },
  {
   "cell_type": "code",
   "execution_count": 3,
   "metadata": {},
   "outputs": [
    {
     "name": "stdout",
     "output_type": "stream",
     "text": [
      "24\n",
      "24\n"
     ]
    }
   ],
   "source": [
    "print(A.age)\n",
    "print(B.age)"
   ]
  },
  {
   "cell_type": "code",
   "execution_count": 9,
   "metadata": {},
   "outputs": [
    {
     "name": "stdout",
     "output_type": "stream",
     "text": [
      "They're different age\n"
     ]
    }
   ],
   "source": [
    "class Details:\n",
    "    \n",
    "    def __init__(self):\n",
    "        self.name=\"Jenny\"\n",
    "        self.age=24\n",
    "        \n",
    "    def compare(self,other):\n",
    "        if self.age==other.age:\n",
    "            return True\n",
    "        else:\n",
    "            return False\n",
    "        \n",
    "        \n",
    "A=Details()  #obj\n",
    "B=Details()  #obj\n",
    "\n",
    "A.age=25\n",
    "\n",
    "if A.compare(B):\n",
    "    print(\"They have same age\")\n",
    "else:\n",
    "    print(\"They're different age\")\n",
    "\n"
   ]
  },
  {
   "cell_type": "code",
   "execution_count": 10,
   "metadata": {},
   "outputs": [
    {
     "name": "stdout",
     "output_type": "stream",
     "text": [
      "They have same age\n"
     ]
    }
   ],
   "source": [
    "class Details:\n",
    "    \n",
    "    def __init__(self):\n",
    "        self.name=\"Jenny\"\n",
    "        self.age=24\n",
    "        \n",
    "    def compare(self,other):\n",
    "        if self.age==other.age:\n",
    "            return True\n",
    "        else:\n",
    "            return False\n",
    "        \n",
    "        \n",
    "A=Details()  #obj\n",
    "B=Details()  #obj\n",
    "\n",
    "#A.age=25\n",
    "\n",
    "if A.compare(B):\n",
    "    print(\"They have same age\")\n",
    "else:\n",
    "    print(\"They're different age\")\n",
    "\n"
   ]
  },
  {
   "cell_type": "code",
   "execution_count": 14,
   "metadata": {},
   "outputs": [
    {
     "name": "stdout",
     "output_type": "stream",
     "text": [
      "They're different age\n"
     ]
    }
   ],
   "source": [
    "class Details:\n",
    "    \n",
    "    def __init__(self):\n",
    "        self.name=\"Jenny\"\n",
    "        self.age=24\n",
    "        \n",
    "    def compare(self,other):\n",
    "        if self.age==other.age:\n",
    "            return True\n",
    "        else:\n",
    "            return False\n",
    "        \n",
    "    def update(self):\n",
    "        self.age=44\n",
    "        \n",
    "        \n",
    "A=Details()  #obj\n",
    "B=Details()  #obj\n",
    "\n",
    "#A.age=25\n",
    "\n",
    "A.update()\n",
    "\n",
    "if A.compare(B):\n",
    "    print(\"They have same age\")\n",
    "else:\n",
    "    print(\"They're different age\")\n",
    "\n"
   ]
  },
  {
   "cell_type": "code",
   "execution_count": null,
   "metadata": {},
   "outputs": [],
   "source": []
  }
 ],
 "metadata": {
  "kernelspec": {
   "display_name": "Python 3",
   "language": "python",
   "name": "python3"
  },
  "language_info": {
   "codemirror_mode": {
    "name": "ipython",
    "version": 3
   },
   "file_extension": ".py",
   "mimetype": "text/x-python",
   "name": "python",
   "nbconvert_exporter": "python",
   "pygments_lexer": "ipython3",
   "version": "3.8.3"
  }
 },
 "nbformat": 4,
 "nbformat_minor": 4
}
