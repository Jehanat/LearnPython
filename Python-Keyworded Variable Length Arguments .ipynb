{
 "cells": [
  {
   "cell_type": "code",
   "execution_count": 1,
   "metadata": {},
   "outputs": [
    {
     "name": "stdout",
     "output_type": "stream",
     "text": [
      "jenny\n",
      "(28, 'kishanganj')\n"
     ]
    }
   ],
   "source": [
    "def func(name,*data):\n",
    "    print(name)\n",
    "    print(data)\n",
    "    \n",
    "func('jenny',28,'kishanganj')    \n",
    "    "
   ]
  },
  {
   "cell_type": "code",
   "execution_count": 2,
   "metadata": {},
   "outputs": [
    {
     "name": "stdout",
     "output_type": "stream",
     "text": [
      "jenny\n",
      "{'age': 28, 'add': 'kishanganj'}\n"
     ]
    }
   ],
   "source": [
    "def func(name,**data):\n",
    "    print(name)\n",
    "    print(data)\n",
    "    \n",
    "func('jenny',age=28,add='kishanganj')    \n",
    "    "
   ]
  },
  {
   "cell_type": "code",
   "execution_count": 7,
   "metadata": {},
   "outputs": [
    {
     "name": "stdout",
     "output_type": "stream",
     "text": [
      "jenny\n",
      "age 28\n",
      "add kishanganj\n"
     ]
    }
   ],
   "source": [
    "def func(name,**data):\n",
    "    print(name)\n",
    "    for i,j in data.items():\n",
    "     print(i,j)\n",
    "     \n",
    "    \n",
    "func('jenny',age=28,add='kishanganj')    \n",
    "    "
   ]
  },
  {
   "cell_type": "code",
   "execution_count": null,
   "metadata": {},
   "outputs": [],
   "source": []
  }
 ],
 "metadata": {
  "kernelspec": {
   "display_name": "Python 3",
   "language": "python",
   "name": "python3"
  },
  "language_info": {
   "codemirror_mode": {
    "name": "ipython",
    "version": 3
   },
   "file_extension": ".py",
   "mimetype": "text/x-python",
   "name": "python",
   "nbconvert_exporter": "python",
   "pygments_lexer": "ipython3",
   "version": "3.8.3"
  }
 },
 "nbformat": 4,
 "nbformat_minor": 4
}
