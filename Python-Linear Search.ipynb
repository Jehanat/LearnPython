{
 "cells": [
  {
   "cell_type": "code",
   "execution_count": 34,
   "metadata": {},
   "outputs": [
    {
     "name": "stdout",
     "output_type": "stream",
     "text": [
      "Not found\n"
     ]
    }
   ],
   "source": [
    "pos=0\n",
    "\n",
    "def search(nums,n):\n",
    "    i=0\n",
    "\n",
    "    while i< len(nums):\n",
    "        if nums[i]==n:\n",
    "            globals()['pos']=i\n",
    "            return True\n",
    "        i=i+1\n",
    "        \n",
    "    return False\n",
    "    \n",
    "    \n",
    "nums=[1,2,3,5,6]\n",
    "\n",
    "n=8\n",
    "if search(nums,n):\n",
    "    print(\"Number has been found at position:\",pos+1)\n",
    "    \n",
    "else:\n",
    "    print('Not found')\n",
    "        "
   ]
  },
  {
   "cell_type": "code",
   "execution_count": null,
   "metadata": {},
   "outputs": [],
   "source": []
  },
  {
   "cell_type": "code",
   "execution_count": null,
   "metadata": {},
   "outputs": [],
   "source": []
  }
 ],
 "metadata": {
  "kernelspec": {
   "display_name": "Python 3",
   "language": "python",
   "name": "python3"
  },
  "language_info": {
   "codemirror_mode": {
    "name": "ipython",
    "version": 3
   },
   "file_extension": ".py",
   "mimetype": "text/x-python",
   "name": "python",
   "nbconvert_exporter": "python",
   "pygments_lexer": "ipython3",
   "version": "3.8.3"
  }
 },
 "nbformat": 4,
 "nbformat_minor": 4
}
