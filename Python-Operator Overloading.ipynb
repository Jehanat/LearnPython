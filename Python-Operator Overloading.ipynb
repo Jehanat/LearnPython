{
 "cells": [
  {
   "cell_type": "code",
   "execution_count": 5,
   "metadata": {},
   "outputs": [
    {
     "name": "stdout",
     "output_type": "stream",
     "text": [
      "4\n",
      "6\n"
     ]
    }
   ],
   "source": [
    "class Student:\n",
    "    def __init__(self,m1,m2):\n",
    "        self.m1=m1\n",
    "        self.m2=m2\n",
    "        \n",
    "        \n",
    "    def __add__(self,other):  #operator operator\n",
    "        m1=self.m1+other.m1\n",
    "        m2=self.m2+other.m2\n",
    "        s3=Student(m1,m2)\n",
    "        return s3\n",
    "        \n",
    "s1=Student(1,2)\n",
    "s2=Student(3,4)\n",
    "\n",
    "s3=s1+s2\n",
    "\n",
    "print(s3.m1)\n",
    "print(s3.m2)\n",
    "        "
   ]
  },
  {
   "cell_type": "code",
   "execution_count": null,
   "metadata": {},
   "outputs": [],
   "source": []
  }
 ],
 "metadata": {
  "kernelspec": {
   "display_name": "Python 3",
   "language": "python",
   "name": "python3"
  },
  "language_info": {
   "codemirror_mode": {
    "name": "ipython",
    "version": 3
   },
   "file_extension": ".py",
   "mimetype": "text/x-python",
   "name": "python",
   "nbconvert_exporter": "python",
   "pygments_lexer": "ipython3",
   "version": "3.8.3"
  }
 },
 "nbformat": 4,
 "nbformat_minor": 4
}
