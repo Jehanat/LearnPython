{
 "cells": [
  {
   "cell_type": "code",
   "execution_count": 20,
   "metadata": {},
   "outputs": [
    {
     "name": "stdout",
     "output_type": "stream",
     "text": [
      "3.0\n",
      "SQL\n",
      "hi\n"
     ]
    }
   ],
   "source": [
    "class Student:\n",
    "    \n",
    "    tool='SQL'  #static or class variable\n",
    "    \n",
    "    def __init__(self,a,b,c):  #initiate \n",
    "        self.a=a\n",
    "        self.b=b\n",
    "        self.c=c\n",
    "        \n",
    "    def avg(self):  #instancemethod\n",
    "        return (self.a+self.b+self.c)/3\n",
    "    \n",
    "    @classmethod   #decorators #classmethod\n",
    "    def info(cls):\n",
    "        return cls.tool\n",
    "    \n",
    "    @staticmethod\n",
    "    def detail():\n",
    "        print('hi')\n",
    "        \n",
    "c1=Student(2,3,4)\n",
    "c2=Student(6,5,7)\n",
    "\n",
    "\n",
    "\n",
    "print(c1.avg())\n",
    "print(Student.info())\n",
    "Student.detail()"
   ]
  },
  {
   "cell_type": "code",
   "execution_count": null,
   "metadata": {},
   "outputs": [],
   "source": []
  },
  {
   "cell_type": "code",
   "execution_count": null,
   "metadata": {},
   "outputs": [],
   "source": []
  }
 ],
 "metadata": {
  "kernelspec": {
   "display_name": "Python 3",
   "language": "python",
   "name": "python3"
  },
  "language_info": {
   "codemirror_mode": {
    "name": "ipython",
    "version": 3
   },
   "file_extension": ".py",
   "mimetype": "text/x-python",
   "name": "python",
   "nbconvert_exporter": "python",
   "pygments_lexer": "ipython3",
   "version": "3.8.3"
  }
 },
 "nbformat": 4,
 "nbformat_minor": 4
}
