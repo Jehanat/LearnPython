{
 "cells": [
  {
   "cell_type": "code",
   "execution_count": 2,
   "metadata": {},
   "outputs": [
    {
     "name": "stdout",
     "output_type": "stream",
     "text": [
      "BMW 150 4\n",
      "BMW 150 4\n"
     ]
    }
   ],
   "source": [
    "#there are two types of variables ,class(static) variable & instance variables\n",
    "\n",
    "\n",
    "\n",
    "class Car:\n",
    "    \n",
    "    wheels=4   #static or class variable\n",
    "    \n",
    "    def __init__(self):\n",
    "        self.com='BMW'  #instance_variable\n",
    "        self.mil=150  #instance_variable\n",
    "        \n",
    "A=Car()\n",
    "B=Car()\n",
    "\n",
    "print(A.com,A.mil,A.wheels)\n",
    "print(B.com,B.mil,B.wheels)"
   ]
  },
  {
   "cell_type": "code",
   "execution_count": 3,
   "metadata": {},
   "outputs": [
    {
     "name": "stdout",
     "output_type": "stream",
     "text": [
      "BMW 150 5\n",
      "BMW 150 5\n"
     ]
    }
   ],
   "source": [
    "\n",
    "\n",
    "\n",
    "\n",
    "class Car:\n",
    "    \n",
    "    wheels=4   #static or class variable\n",
    "    \n",
    "    def __init__(self):\n",
    "        self.com='BMW'  #instance_variable\n",
    "        self.mil=150  #instance_variable\n",
    "        \n",
    "A=Car()\n",
    "B=Car()\n",
    "\n",
    "Car.wheels=5  #we can change the value\n",
    "\n",
    "print(A.com,A.mil,A.wheels)\n",
    "print(B.com,B.mil,B.wheels)"
   ]
  },
  {
   "cell_type": "code",
   "execution_count": null,
   "metadata": {},
   "outputs": [],
   "source": []
  }
 ],
 "metadata": {
  "kernelspec": {
   "display_name": "Python 3",
   "language": "python",
   "name": "python3"
  },
  "language_info": {
   "codemirror_mode": {
    "name": "ipython",
    "version": 3
   },
   "file_extension": ".py",
   "mimetype": "text/x-python",
   "name": "python",
   "nbconvert_exporter": "python",
   "pygments_lexer": "ipython3",
   "version": "3.8.3"
  }
 },
 "nbformat": 4,
 "nbformat_minor": 4
}
